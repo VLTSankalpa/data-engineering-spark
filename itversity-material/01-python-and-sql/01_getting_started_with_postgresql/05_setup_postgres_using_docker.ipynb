{
 "cells": [
  {
   "cell_type": "markdown",
   "metadata": {},
   "source": [
    "## Setup Postgres using Docker\n",
    "\n",
    "In some cases you might want to have postgres setup on your machine. Let us understand how we can setup Postgres using Docker."
   ]
  },
  {
   "cell_type": "code",
   "execution_count": 7,
   "metadata": {
    "tags": [
     "remove-cell"
    ]
   },
   "outputs": [
    {
     "data": {
      "text/html": [
       "<iframe width=\"560\" height=\"315\" src=\"https://www.youtube.com/embed/VF4oAET-GwE?rel=0&amp;controls=1&amp;showinfo=0\" frameborder=\"0\" allowfullscreen></iframe>\n"
      ],
      "text/plain": [
       "<IPython.core.display.HTML object>"
      ]
     },
     "metadata": {},
     "output_type": "display_data"
    }
   ],
   "source": [
    "%%HTML\n",
    "<iframe width=\"560\" height=\"315\" src=\"https://www.youtube.com/embed/VF4oAET-GwE?rel=0&amp;controls=1&amp;showinfo=0\" frameborder=\"0\" allowfullscreen></iframe>"
   ]
  },
  {
   "cell_type": "markdown",
   "metadata": {},
   "source": [
    "* If you are using our labs, the database will be pre-created by us with all the right permissions.\n",
    "* If you are using Windows or Mac, ensure that you have installed Docker Desktop.\n",
    "* If you are using Ubuntu based desktop, make sure to setup Docker.\n",
    "* Here are the steps that can be used to setup Postgres database using Docker.\n",
    "  * Pull the postgres image using `docker pull`\n",
    "  * Create the container using `docker create`.\n",
    "  * Start the container using `docker start`.\n",
    "  * Alternatively we can use `docker run` which will pull, create and start the container.\n",
    "  * Use `docker logs` or `docker logs -f` to review the logs to ensure Postgres Server is up and running.\n",
    "\n",
    "```shell\n",
    "docker pull postgres\n",
    "\n",
    "```\n",
    "\n",
    "* -h hostname\n",
    "* --name docker container name\n",
    "* -p port\n",
    "\n",
    "```shell\n",
    "docker container create --name itv_pg -p 5433:5432 -h itv_pg -e POSTGRES_PASSWORD=itversity postgres\n",
    "docker container create --name my_pg -p 9999:5432 -h my_pg -e POSTGRES_PASSWORD=itversity postgres\n",
    "\n",
    "docker start itv_pg\n",
    "docker start my_pg\n",
    "\n",
    "docker logs itv_pg\n",
    "\n",
    "telnet localhost 9999\n",
    "telnet 0.0.0.0 9999\n",
    "\n",
    "docker exec -it my_pg bash\n",
    "```\n",
    "* You can connect to Postgres Database directly from your laptop using `psql` command\n",
    "\n",
    "```shell\n",
    "psql -p 9999 -U postgres -h localhost\n",
    "\n",
    "```\n",
    "\n",
    "\n",
    "* You can connect to Postgres Database setup using Docker with `docker exec`.\n",
    "\n",
    "```shell\n",
    "docker exec -it itv_pg psql -U postgres\n",
    "```\n",
    "\n",
    "* You can also connecto to Postgres directly with out using `docker exec`.\n",
    "\n",
    "```shell\n",
    "psql -h localhost \\\n",
    "    -p 5433 \\\n",
    "    -d postgres \\\n",
    "    -U postgres \\\n",
    "    -W\n",
    "```"
   ]
  }
 ],
 "metadata": {
  "kernelspec": {
   "display_name": "Python 3 (ipykernel)",
   "language": "python",
   "name": "python3"
  },
  "language_info": {
   "codemirror_mode": {
    "name": "ipython",
    "version": 3
   },
   "file_extension": ".py",
   "mimetype": "text/x-python",
   "name": "python",
   "nbconvert_exporter": "python",
   "pygments_lexer": "ipython3",
   "version": "3.8.13"
  }
 },
 "nbformat": 4,
 "nbformat_minor": 4
}
