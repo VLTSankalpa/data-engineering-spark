{
 "cells": [
  {
   "cell_type": "markdown",
   "metadata": {},
   "source": [
    "## Using Query Editor\n",
    "\n",
    "Redshift cluster comes with query editor to build and run queries. We will get started with query editor by creating user for retail_db database. Also we will create and drop simple table.\n",
    "* Here are the steps to access and connect to database using query editor.\n",
    "  * Make sure cluster is up and running.\n",
    "  * You will see **QUERIES** for saved queries and **EDITOR** for Redshift Query Editor.\n",
    "  * Click on **Query Editor**. It will prompt for the following information (if you have only one Redshift Cluster)\n",
    "    * Database Name\n",
    "    * Master user name\n",
    "    * Master user password\n",
    "* Now we should be able to use **Query Editor** to run one query at a time.\n",
    "* It is primarily used to quickly validate queries and also to run individual queries to get started.\n",
    "* On day to day bases, we typically connect to Redshift using Postgres based CLI `psql` or IDEs such as **SQL Workbench**.\n",
    "* Let us go a head and run below scripts one at a time. By default, Redshift enforces restrictions while creating passwords. Make sure to use cryptic passwords.\n",
    "\n",
    "```sql\n",
    "CREATE USER retail_user WITH PASSWORD 'Retail_P@ssw0rd';\n",
    "GRANT ALL ON DATABASE retail_db TO retail_user;\n",
    "```\n",
    "\n",
    "```{warning}\n",
    "It is not a good practice to grant all on database to the user.\n",
    "```\n",
    "\n",
    "* Now you can connect to retail_db as retail_user using psql or SQL Workbench and create tables. We will see this later.\n",
    "* We can also run below commands or queries to create tables in Redshift. Let us go ahead and create tables in **public** schema. Remember that we are connected to query editor as master user **awsuser** and database **retail_db** and hence the tables will be created in **public** schema with in **retail_db** database.\n",
    "\n",
    "```sql\n",
    "CREATE TABLE t (i INT);\n",
    "INSERT INTO t VALUES (1);\n",
    "SELECT * FROM t;\n",
    "DROP TABLE t;\n",
    "```"
   ]
  },
  {
   "cell_type": "code",
   "execution_count": null,
   "metadata": {},
   "outputs": [],
   "source": []
  }
 ],
 "metadata": {
  "kernelspec": {
   "display_name": "Python 3",
   "language": "python",
   "name": "python3"
  },
  "language_info": {
   "codemirror_mode": {
    "name": "ipython",
    "version": 3
   },
   "file_extension": ".py",
   "mimetype": "text/x-python",
   "name": "python",
   "nbconvert_exporter": "python",
   "pygments_lexer": "ipython3",
   "version": "3.6.12"
  }
 },
 "nbformat": 4,
 "nbformat_minor": 4
}
