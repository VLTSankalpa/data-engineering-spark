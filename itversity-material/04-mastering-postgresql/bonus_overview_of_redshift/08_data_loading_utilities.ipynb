{
 "cells": [
  {
   "cell_type": "markdown",
   "metadata": {},
   "source": [
    "## Data Loading Utilities\n",
    "\n",
    "Let us understand how we can load the data into Redshift tables using `COPY` command or utility.\n",
    "* First let us understand the data processing or engineering life cycle to understand the relevance of `COPY` command.\n",
    "  * Source Databases -> Files -> Database for Stage Data (ODS) ->  Database for Curated Data (Data Marts) -> Reports\n",
    "* One of the major data source to Data Warehouse Databases such as Posgres is data in the form of files.\n",
    "* Typically data from sources are shipped in the form of files.\n",
    "* When we use cloud based services such as AWS Redshift, the files are typically shipped to s3 and then data is supposed to be loaded into stage tables.\n",
    "* We use stage tables to perform operations such as deduplication, upsert or merge etc. After data is processed, we typically truncate the stage tables.\n",
    "* For such kind of tables, the fastest way to get data from files is by using utilities such as `COPY`. Redshift `COPY` command facilitates us to copy data from s3 into the tables directly.\n",
    "* Here are the pre-requisites to understand how to use `COPY` command to get data into Redshift (stage) tables.\n",
    "  * Make sure data is copied to s3 bucket.\n",
    "  * We need to ensure that the machine from which `COPY` command need to run have Postgres binaries installed so that we can launch `psql`.\n",
    "  * We either need to use AWS root credentials (access key and secret key) or IAM role to run `COPY` command using `psql`.\n",
    "* Setup and validate AWS root credentials\n",
    "  * \n",
    "* Download the data or use existing data. In actual projects data will be shipped by source system into s3. They will use standard naming conventions for folders and files as per the technical specification document.\n",
    "* Launch `psql`\n",
    "* Run `COPY` command"
   ]
  },
  {
   "cell_type": "code",
   "execution_count": null,
   "metadata": {},
   "outputs": [],
   "source": []
  }
 ],
 "metadata": {
  "kernelspec": {
   "display_name": "Python 3",
   "language": "python",
   "name": "python3"
  },
  "language_info": {
   "codemirror_mode": {
    "name": "ipython",
    "version": 3
   },
   "file_extension": ".py",
   "mimetype": "text/x-python",
   "name": "python",
   "nbconvert_exporter": "python",
   "pygments_lexer": "ipython3",
   "version": "3.6.12"
  }
 },
 "nbformat": 4,
 "nbformat_minor": 4
}
