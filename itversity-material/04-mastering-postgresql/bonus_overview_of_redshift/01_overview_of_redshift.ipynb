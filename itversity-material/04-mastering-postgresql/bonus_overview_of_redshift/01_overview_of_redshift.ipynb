{
 "cells": [
  {
   "cell_type": "markdown",
   "metadata": {},
   "source": [
    "# Overview of Redshift\n",
    "\n",
    "As part of this section we will primarily get a detailed overview of AWS Redshift database.\n",
    "* Setup AWS Redshift Database\n",
    "* Using Query Editor\n",
    "* Accessing Redshift Publicly\n",
    "* Connecting using psql\n",
    "* Using IDEs - SQL Workbench\n",
    "* Using Jupyter Environment\n",
    "* Overview of SQL using Redshift\n",
    "* Evolution of DW Databases\n",
    "* Postgres vs. Redshift"
   ]
  },
  {
   "cell_type": "code",
   "execution_count": null,
   "metadata": {},
   "outputs": [],
   "source": []
  }
 ],
 "metadata": {
  "kernelspec": {
   "display_name": "Python 3",
   "language": "python",
   "name": "python3"
  },
  "language_info": {
   "codemirror_mode": {
    "name": "ipython",
    "version": 3
   },
   "file_extension": ".py",
   "mimetype": "text/x-python",
   "name": "python",
   "nbconvert_exporter": "python",
   "pygments_lexer": "ipython3",
   "version": "3.6.12"
  }
 },
 "nbformat": 4,
 "nbformat_minor": 4
}
