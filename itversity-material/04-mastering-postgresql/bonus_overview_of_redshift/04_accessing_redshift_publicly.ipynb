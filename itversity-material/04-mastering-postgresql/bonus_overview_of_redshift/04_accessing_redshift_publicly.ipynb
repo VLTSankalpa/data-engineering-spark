{
 "cells": [
  {
   "cell_type": "markdown",
   "metadata": {},
   "source": [
    "## Accessing Redshift Publicly\n",
    "\n",
    "Let us understand how we can make Redshift publicly accessible from remote machines such as our personal PC or even a server.\n",
    "\n",
    "* By default, we can only access Redshift using servers with in the AWS using Private IP.\n",
    "* There are multiple ways to connect to Redshift from remote machines - the most straight forward way is to make it publicy accessible. \n",
    "* Publicly accessible clusters is not a typically choice in enterprise setup due to security reasons. But as individuals we can make them publicly accessible for our learning purposes.\n",
    "* Here are the steps that need to be followed to make a Redshift cluster publicly accessible.\n",
    "  * Create elastic ip by going to EC2 Dashboard and then Elastic IPs under Network and Security.\n",
    "  * You can review whether the cluster is publicly accessible or not by going to properties for the cluster.\n",
    "  * You can click on Actions and then click on \"Modify publicly accessible setting\"\n",
    "  * Make sure to select **Yes** and attache the elastic ip created in the first step.\n",
    "* Once the server is publicly accessible, you need to add the IP of the machine or server from which you want to connect as part of the security group as demonstrated.\n",
    "* We will be using `psql` to validate as part of the next topic. For now we can use telnet to validate."
   ]
  },
  {
   "cell_type": "code",
   "execution_count": null,
   "metadata": {},
   "outputs": [],
   "source": []
  }
 ],
 "metadata": {
  "kernelspec": {
   "display_name": "Python 3",
   "language": "python",
   "name": "python3"
  },
  "language_info": {
   "codemirror_mode": {
    "name": "ipython",
    "version": 3
   },
   "file_extension": ".py",
   "mimetype": "text/x-python",
   "name": "python",
   "nbconvert_exporter": "python",
   "pygments_lexer": "ipython3",
   "version": "3.6.12"
  }
 },
 "nbformat": 4,
 "nbformat_minor": 4
}
