{
 "cells": [
  {
   "cell_type": "markdown",
   "metadata": {},
   "source": [
    "## SQL Workbench and Postgres\n",
    "\n",
    "Let us connect to Redshift Database using SQL Workbench.\n",
    "* Download the JDBC Driver\n",
    "* Get the database connectivity information\n",
    "* Configure the connection using SQL Workbench\n",
    "* Validate the connection and save the profile"
   ]
  },
  {
   "cell_type": "markdown",
   "metadata": {},
   "source": [
    "### Connecting to Postgres\n",
    "Here are the steps to connect to Redshift running on AWS.\n",
    "\n",
    "* We are trying to connect to Redshift Database that is running as part of AWS environment which is remote to our system.\n",
    "* We typically use ODBC or JDBC to connect to a Database from remote machines (our PC).\n",
    "* Here are the pre-requisites to connect to a Database.\n",
    "  * Make sure 5439 port (default) is opened as part of the firewalls. You can get the Redshift port details from AWS Web Console.\n",
    "  * If you have telnet configured on your system on which SQL Workbench is installed, make sure to validate by running telnet command using DNS Alias from end point and port number 5439 (default).\n",
    "  * Ensure that you have downloaded right JDBC Driver for Redshift (use google search to get the appropriate version).\n",
    "  * Make sure to have right credentials (username and password).\n",
    "  * Ensure that you have database created on which the user have permissions.\n",
    "* Once you have all the information required along with JDBC jar, ensure to save the information as part of the profile. You can also validate before saving the details by using **Test** option."
   ]
  },
  {
   "cell_type": "code",
   "execution_count": null,
   "metadata": {},
   "outputs": [],
   "source": []
  }
 ],
 "metadata": {
  "kernelspec": {
   "display_name": "Python 3",
   "language": "python",
   "name": "python3"
  },
  "language_info": {
   "codemirror_mode": {
    "name": "ipython",
    "version": 3
   },
   "file_extension": ".py",
   "mimetype": "text/x-python",
   "name": "python",
   "nbconvert_exporter": "python",
   "pygments_lexer": "ipython3",
   "version": "3.6.12"
  }
 },
 "nbformat": 4,
 "nbformat_minor": 4
}
