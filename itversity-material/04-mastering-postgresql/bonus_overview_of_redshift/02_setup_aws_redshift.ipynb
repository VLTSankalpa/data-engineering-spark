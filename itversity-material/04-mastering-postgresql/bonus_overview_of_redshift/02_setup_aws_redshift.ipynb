{
 "cells": [
  {
   "cell_type": "markdown",
   "metadata": {},
   "source": [
    "## Setup AWS Redshift\n",
    "\n",
    "Let us go ahead and setup Redshift on AWS.\n",
    "* We can setup a single node Redshift cluster using free tier. \n",
    "* Here are the configuration details of free tier single node Redshift cluster.\n",
    "  * Node Count: 1\n",
    "  * Node Type: dc2.large (2 vCPU and 15 GB Memory)\n",
    "  * Storage: 160 GB (SSD)\n",
    "* Here are the steps to setup Redshift using free tier using **AWS Web Console**.\n",
    "  * Search for **Redshift** and choose the service using search bar in AWS Web Console.\n",
    "  * Click on **Create Cluster**\n",
    "  * Choose **Free Trial**\n",
    "  * Here are the important areas which you might have to change. You need to enter Master user password\n",
    "    * Database Name (defaut: retail_db)\n",
    "    * Database Port (default: 5439)\n",
    "    * Master user name (default: awsuser)\n",
    "    * Master user password\n",
    "* Optionally select security group for your cluster. You can change others as well if you have to.\n",
    "  * **Security group** is firewall for any AWS Compute resource.\n",
    "  * Go to **Additional configurations** by disabling **Use defaults\"\n",
    "  * Expand **Network and security**\n",
    "  * Then go to **VPC security groups**\n",
    "  * Close **default**\n",
    "* Click on create cluster and wait for few minutes.\n",
    "* One of the area which you should focus to get hands straight on Redshift as a developer or engineer is **Query Editor**."
   ]
  }
 ],
 "metadata": {
  "kernelspec": {
   "display_name": "Python 3",
   "language": "python",
   "name": "python3"
  },
  "language_info": {
   "codemirror_mode": {
    "name": "ipython",
    "version": 3
   },
   "file_extension": ".py",
   "mimetype": "text/x-python",
   "name": "python",
   "nbconvert_exporter": "python",
   "pygments_lexer": "ipython3",
   "version": "3.6.12"
  }
 },
 "nbformat": 4,
 "nbformat_minor": 4
}
