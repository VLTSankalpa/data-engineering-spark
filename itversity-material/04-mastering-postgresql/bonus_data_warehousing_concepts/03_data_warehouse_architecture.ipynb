{
 "cells": [
  {
   "cell_type": "markdown",
   "metadata": {},
   "source": [
    "## Data Warehouse Architecture\n",
    "\n",
    "Let us get an overview of Data Warehouse Architecture. We will also get into the details related to different components of Data Warehouse.\n",
    "* ODS - Operational Data Store\n",
    "  * Ad hoc queries for data analysis.\n",
    "  * Extended data storage for compliance purposes.\n",
    "  * Golden copy of source data to troubleshoot data quality issues and bugs in reports.\n",
    "* Enterprise Data Warehouse with Data Marts\n",
    "  * Contains data as per modeled data marts.\n",
    "  * Ad hoc queries or reports for data analysis.\n",
    "  * Standard reports as per the business requirements.\n",
    "* There might be tables pre-aggregated as per the required granularity for different reports and dashboards.\n",
    "\n",
    "Here are the common architectural patterns with respect to getting data into Data Warehouse.\n",
    "* ETL - Extract, Transform, Load\n",
    "* ELT - Extract, Load, Transform\n",
    "* In ETL, data processing or transformations are typically taken care by servers such as Informatica, Talend etc.\n",
    "* In ELT, data processing is typically done after loading the data into the target system leveraging the capacity of the target."
   ]
  },
  {
   "cell_type": "code",
   "execution_count": null,
   "metadata": {},
   "outputs": [],
   "source": []
  }
 ],
 "metadata": {
  "kernelspec": {
   "display_name": "Python 3",
   "language": "python",
   "name": "python3"
  },
  "language_info": {
   "codemirror_mode": {
    "name": "ipython",
    "version": 3
   },
   "file_extension": ".py",
   "mimetype": "text/x-python",
   "name": "python",
   "nbconvert_exporter": "python",
   "pygments_lexer": "ipython3",
   "version": "3.6.12"
  }
 },
 "nbformat": 4,
 "nbformat_minor": 4
}
