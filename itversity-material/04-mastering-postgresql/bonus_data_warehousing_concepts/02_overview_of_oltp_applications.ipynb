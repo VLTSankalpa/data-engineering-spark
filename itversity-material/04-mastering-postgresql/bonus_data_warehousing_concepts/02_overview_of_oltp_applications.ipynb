{
 "cells": [
  {
   "cell_type": "markdown",
   "metadata": {},
   "source": [
    "## Overview of OLTP Applications\n",
    "\n",
    "Let us get an overview of OLTP Applications.\n",
    "* OLTP stands for on-line transaction processing.\n",
    "* Here are the some of the examples for OLTP Applications.\n",
    "  * Order Management System in eCommerce platforms.\n",
    "  * Point of Sale (PoS) system for brick and mortar retail outlets.\n",
    "  * Banking applications.\n",
    "  * Mobile billing applications.\n",
    "* Typically tables in databases for OLTP Applications are designed as per normalization principles. The tables will be either in 3NF or BCNF.\n",
    "* Here are the most commonly used databases used to support OLTP Applications.\n",
    "  * Oracle\n",
    "  * SQL Server\n",
    "  * DB2\n",
    "  * Informix\n",
    "  * Sybase\n",
    "  * Postgresql\n",
    "  * MySQL\n",
    "* Applications are typically built using programming language based frameworks.\n",
    "  * Java - J2EE, Spring Boot\n",
    "  * Python - Flask, Django\n",
    "  * Ruby - Rails\n",
    "  * PHP - Laravel\n",
    "  * Scala - Play\n",
    "  * Java Script - Node\n",
    "* We might run basic reports such as customer's order history as part of OLTP applications.\n",
    "* Even though it is possible to run enterprise level reports at customer level, product level, category level, department level etc using OLTP application - it should be avoided as such kind of reports can have adverse impact on the core application."
   ]
  }
 ],
 "metadata": {
  "kernelspec": {
   "display_name": "Python 3",
   "language": "python",
   "name": "python3"
  },
  "language_info": {
   "codemirror_mode": {
    "name": "ipython",
    "version": 3
   },
   "file_extension": ".py",
   "mimetype": "text/x-python",
   "name": "python",
   "nbconvert_exporter": "python",
   "pygments_lexer": "ipython3",
   "version": "3.6.12"
  }
 },
 "nbformat": 4,
 "nbformat_minor": 4
}
