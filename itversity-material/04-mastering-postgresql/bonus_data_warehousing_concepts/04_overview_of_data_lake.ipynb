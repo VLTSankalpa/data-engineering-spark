{
 "cells": [
  {
   "cell_type": "markdown",
   "metadata": {},
   "source": [
    "## Overview of Data Lake\n",
    "\n",
    "Let us get an overview of Data Lake and its role in modern analytics applications.\n",
    "* One of the major limitation of traditional data warehouse technologies is coupled storage and compute.\n",
    "* The latest and major change in this area is decoupling of storage and compute.\n",
    "* Data lake is nothing but a low cost storage. It is typically block storage.\n",
    "  * AWS - s3\n",
    "  * Azure - Blob\n",
    "  * GCP - Cloud Storage\n",
    "  * On Prem - Open source block storage\n",
    "* The raw data is typically stored in data lake. There might be multiple layers with in data lake for different categories of data.\n",
    "  * Raw Data\n",
    "  * Intermediate Data\n",
    "  * Final or Curated Data fine tuned for reporting purposes.\n",
    "* Data is typically ingested into Data Lake using different technologies for different types of sources.\n",
    "  * Data ingestion from files is typically done by using tools like NiFi, ETL tools such as Talend etc.\n",
    "  * Data ingestion from databases is typically done by using tools like ETL tools, Spark over JDBC, Sqoop etc.\n",
    "  * Data ingestion in real time or micro batches is typically done by using tools like Goldengate, Attinuity, Kafka, Kinesis etc.\n",
    "* Here are the details related to Data Processing.\n",
    "  * Batch data processing is typically done using distributed compute frameworks such as Spark.\n",
    "  * Streaming data processing is typically done using streaming technologies such as Kafka Streams, Spark Structured Streaming etc.\n",
    "  "
   ]
  },
  {
   "cell_type": "code",
   "execution_count": null,
   "metadata": {},
   "outputs": [],
   "source": []
  }
 ],
 "metadata": {
  "kernelspec": {
   "display_name": "Python 3",
   "language": "python",
   "name": "python3"
  },
  "language_info": {
   "codemirror_mode": {
    "name": "ipython",
    "version": 3
   },
   "file_extension": ".py",
   "mimetype": "text/x-python",
   "name": "python",
   "nbconvert_exporter": "python",
   "pygments_lexer": "ipython3",
   "version": "3.6.12"
  }
 },
 "nbformat": 4,
 "nbformat_minor": 4
}
