{
 "cells": [
  {
   "cell_type": "markdown",
   "metadata": {},
   "source": [
    "## Dimensional Modeling\n",
    "\n",
    "* **daily_product_revenue_fact**\n",
    "  * **date_id** - **yyyyMMdd**\n",
    "  * **product_id**\n",
    "  * **product_revenue**\n",
    "  * **product_count**\n",
    "* **date_dim** (parent table for daily_product_revenue_fact using date_id)\n",
    "  * **date_id** - unique or primary key\n",
    "  * **day_name**\n",
    "  * **holiday_flag**\n",
    "  * **week**\n",
    "  * **day_of_month**\n",
    "  * **month_name**\n",
    "  * **quarter**\n",
    "  * **year**\n",
    "* **product_dim** (parent table for daily_product_revenue_fact using product_id)\n",
    "  * **product_id** - unique or primary key\n",
    "  * **product_name**\n",
    "  * **category_name**\n",
    "  * **department_name**"
   ]
  },
  {
   "cell_type": "code",
   "execution_count": null,
   "metadata": {},
   "outputs": [],
   "source": []
  }
 ],
 "metadata": {
  "kernelspec": {
   "display_name": "Python 3",
   "language": "python",
   "name": "python3"
  },
  "language_info": {
   "codemirror_mode": {
    "name": "ipython",
    "version": 3
   },
   "file_extension": ".py",
   "mimetype": "text/x-python",
   "name": "python",
   "nbconvert_exporter": "python",
   "pygments_lexer": "ipython3",
   "version": "3.6.12"
  }
 },
 "nbformat": 4,
 "nbformat_minor": 4
}
