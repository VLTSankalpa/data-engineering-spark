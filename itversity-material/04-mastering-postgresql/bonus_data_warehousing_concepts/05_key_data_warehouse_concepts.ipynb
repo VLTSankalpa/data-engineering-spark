{
 "cells": [
  {
   "cell_type": "markdown",
   "metadata": {},
   "source": [
    "## Key Data Warehouse Concepts\n",
    "\n",
    "Let us go through the key data warehouse concepts.\n",
    "* Facts\n",
    "  * Fact tables typically contain dimension keys and measures.\n",
    "  * Measures are nothing but metrics at the dimension level using which fact tables are created.\n",
    "* Dimensions\n",
    "* Measures\n",
    "* Granularity\n",
    "* Hierarchy"
   ]
  },
  {
   "cell_type": "code",
   "execution_count": null,
   "metadata": {},
   "outputs": [],
   "source": [
    "    "
   ]
  }
 ],
 "metadata": {
  "kernelspec": {
   "display_name": "Python 3",
   "language": "python",
   "name": "python3"
  },
  "language_info": {
   "codemirror_mode": {
    "name": "ipython",
    "version": 3
   },
   "file_extension": ".py",
   "mimetype": "text/x-python",
   "name": "python",
   "nbconvert_exporter": "python",
   "pygments_lexer": "ipython3",
   "version": "3.6.12"
  }
 },
 "nbformat": 4,
 "nbformat_minor": 4
}
