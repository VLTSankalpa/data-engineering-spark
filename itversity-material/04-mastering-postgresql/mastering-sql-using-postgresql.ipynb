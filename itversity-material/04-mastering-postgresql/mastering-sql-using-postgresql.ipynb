{
 "cells": [
  {
   "cell_type": "markdown",
   "metadata": {},
   "source": [
    "# Mastering SQL using Postgresql\n",
    "\n",
    "This course is primarily designed to learn basic and advanced SQL using Postgresql Database."
   ]
  },
  {
   "cell_type": "markdown",
   "metadata": {},
   "source": [
    "## About Postgresql\n",
    "\n",
    "Postgresql is one of the leading datatabase. It is an open source database and used for different types of applications.\n",
    "* Web Applications\n",
    "* Mobile Applications\n",
    "* Data Logging Applications\n",
    "\n",
    "Even though it is relational database and best suited for transactional systems (OLTP), it's flavors such as Redshift are extensively used for Analytical or Decision Support Systems."
   ]
  },
  {
   "cell_type": "markdown",
   "metadata": {},
   "source": [
    "## Course Details\n",
    "\n",
    "This course is primarily designed to go through basic and advanced SQL using Postgres Database. You will be learning following aspects of SQL as well as Postgres Database.\n",
    "\n",
    "* Setup Postgres Database using Docker\n",
    "* Connect to Postgres using different interfaces such as psql, SQL Workbench, Jupyter with SQL magic etc.\n",
    "* Understand utilities to load the data\n",
    "* Overview of Normalization Principles and Relations (RDBMS Concepts)\n",
    "* Performing CRUD or DML Operations\n",
    "* Writing basic SQL Queries such as filtering, joins, aggregations, sorting etc\n",
    "* Creating tables, constraints and indexes\n",
    "* Different partitioning strategies while creating tables\n",
    "* Using pre-defined functions provided by Postgresql\n",
    "* Writing advanced SQL queries using analytic functions\n",
    "* Overview of query performance tuning with emphasis on explain plans and different tuning techniques\n",
    "* Difference between RDBMS and Data Warhousing with live examples."
   ]
  },
  {
   "cell_type": "markdown",
   "metadata": {},
   "source": [
    "## Desired Audience\n",
    "\n",
    "Here are the desired audience for this course.\n",
    "* College students and entry level professionals to get hands on expertise with respect to SQL to be prepared for the interviews.\n",
    "* Experienced application developers to understand key aspects of Databases to improve their productivity.\n",
    "* Data Engineers and Data Warehouse Developers to understand the relevance of SQL and other key concepts.\n",
    "* Testers to improve their query writing abilities to validate data in the tables as part of running their test cases.\n",
    "* Business Analysts to write ad-hoc queries to understand data better or troubleshoot data quality issues.\n",
    "* Any other hands on IT Professional who want to improve their query writing and tuning capabilities.\n",
    "\n",
    "```{note}\n",
    "Developers from non CS or IT background at times struggle in writing queries and this course will provide required database skills to take their overall application development skills to next level.\n",
    "```"
   ]
  },
  {
   "cell_type": "markdown",
   "metadata": {},
   "source": [
    "## Prerequisites\n",
    "\n",
    "Here are the prerequisites before signing up for the course.\n",
    "\n",
    "````{panels}\n",
    "**Logistics**\n",
    "\n",
    "* Computer with decent configuration\n",
    "  * At least 4 GB RAM\n",
    "  * 8 GB RAM is highly desired\n",
    "* Chrome Browser\n",
    "* High Speed Internet\n",
    "\n",
    "---\n",
    "\n",
    "**Desired Skills**\n",
    "\n",
    "* Engineering or Science Degree\n",
    "* Ability to use computer\n",
    "* Knowledge or working experience with databases is highly desired\n",
    "\n",
    "````"
   ]
  },
  {
   "cell_type": "markdown",
   "metadata": {},
   "source": [
    "## Key Objectives\n",
    "The course is designed for the professionals to achieve these key objectives related to databases using Postgresql.\n",
    "* Ability to interpret data models.\n",
    "* Using database IDEs to interact with databases.\n",
    "* Data loading strategies to load data into database tables.\n",
    "* Write basic as well as advanced SQL queries.\n",
    "* Ability to create tables, partition tables, indexes etc.\n",
    "* Understand and use constraints effectively based up on the requirements.\n",
    "* Effective usage of functions provided by Postgresql.\n",
    "* Understand basic performance tuning strategies\n",
    "* Differences between RDBMS and Data Warehouse concepts by comparing Postgresql with Redshift.\n",
    "\n",
    "```{attention}\n",
    "This course is primarily designed to gain key database skills for application developers, data engineers, testers, business analysts etc.\n",
    "```"
   ]
  },
  {
   "cell_type": "markdown",
   "metadata": {},
   "source": [
    "## Training Approach\n",
    "Here are the details related to the training approach.\n",
    "* It is self paced with reference material, code snippets and videos.\n",
    "* One can either use environment provided by us or setup their own environment using Docker.\n",
    "* Modules will be published as and when they are ready. We would recommend to complete **2 modules every week** by spending **4 to 5 hours per week**.\n",
    "* It is highly recommended to take care of the exercises at the end to ensure that you are able to meet all the key objectives for each module.\n",
    "* Support will be provided either through chat or email.\n",
    "* For those who signed up, we will have weekly monitoring and review sessions to keep track of the progress.\n",
    "\n",
    "```{attention}\n",
    "Spend 4 to 5 hours per week up to 8 weeks and complete all the exercises to get best out of this course.\n",
    "```"
   ]
  },
  {
   "cell_type": "markdown",
   "metadata": {},
   "source": [
    "## Self Evaluation\n",
    "\n",
    "The course is designed in such a way that one can self evaluate through the course and confirm whether the skills are acquired.\n",
    "* Here is the approach we recommend you to take this course.\n",
    "  * Go through the consolidated exercises and see if you are able to solve the problems or not.\n",
    "  * Make sure to follow the order we have defined as part of the course.\n",
    "  * After each and every section or module, make sure to solve the exercises. We have provided enough information to validate the output of your queries.\n",
    "  * After the completion of the course try to solve the exercises using consolidated list.\n",
    "  * Keep in mind that you will be reviewing the same exercises before the course, during the course as well as at the end of the course.\n",
    "* By the end of the course, if you are able to solve the problems, then you can come to a conclusion that you are able to master the key skill called as SQL."
   ]
  },
  {
   "cell_type": "code",
   "execution_count": null,
   "metadata": {},
   "outputs": [],
   "source": []
  }
 ],
 "metadata": {
  "kernelspec": {
   "display_name": "Python 3",
   "language": "python",
   "name": "python3"
  },
  "language_info": {
   "codemirror_mode": {
    "name": "ipython",
    "version": 3
   },
   "file_extension": ".py",
   "mimetype": "text/x-python",
   "name": "python",
   "nbconvert_exporter": "python",
   "pygments_lexer": "ipython3",
   "version": "3.6.12"
  }
 },
 "nbformat": 4,
 "nbformat_minor": 4
}
