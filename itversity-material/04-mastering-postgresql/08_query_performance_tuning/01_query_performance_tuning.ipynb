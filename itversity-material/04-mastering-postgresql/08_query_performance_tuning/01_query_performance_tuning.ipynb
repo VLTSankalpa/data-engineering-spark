{
 "cells": [
  {
   "cell_type": "markdown",
   "metadata": {},
   "source": [
    "# Query Performance Tuning\n",
    "\n",
    "As part of this section we will go through basic performance tuning techniques with respect to queries.\n",
    "\n",
    "* Preparing Database\n",
    "* Interpreting Explain Plans\n",
    "* Overview of Cost Based Optimizer\n",
    "* Performance Tuning using Indexes\n",
    "* Criteria for indexes\n",
    "* Criteria for Partitioning\n",
    "* Writing Queries – Partition Pruning\n",
    "* Overview of Query Hints"
   ]
  },
  {
   "cell_type": "code",
   "execution_count": null,
   "metadata": {},
   "outputs": [],
   "source": []
  }
 ],
 "metadata": {
  "kernelspec": {
   "display_name": "Python 3",
   "language": "python",
   "name": "python3"
  },
  "language_info": {
   "codemirror_mode": {
    "name": "ipython",
    "version": 3
   },
   "file_extension": ".py",
   "mimetype": "text/x-python",
   "name": "python",
   "nbconvert_exporter": "python",
   "pygments_lexer": "ipython3",
   "version": "3.6.12"
  }
 },
 "nbformat": 4,
 "nbformat_minor": 4
}
