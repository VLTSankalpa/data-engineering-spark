{
 "cells": [
  {
   "cell_type": "markdown",
   "metadata": {},
   "source": [
    "## Overview of Query Hints\n",
    "\n",
    "Let us get an overview of query hints.\n",
    "* We can specify hint using /*+ HINT */ as part of the query.\n",
    "* Make sure there are no typos in the hint.\n",
    "* If there are typos or there no indexes specified as part of hint, they will be ignored.\n",
    "* In case of complex queries, CBO might use incorrect index or inappropriate join.\n",
    "* As an expert if we are sure that, the query should be using a particular index or right join, then we can force the optimizer to choose such index or join type leveraging hint."
   ]
  }
 ],
 "metadata": {
  "kernelspec": {
   "display_name": "Python 3",
   "language": "python",
   "name": "python3"
  },
  "language_info": {
   "codemirror_mode": {
    "name": "ipython",
    "version": 3
   },
   "file_extension": ".py",
   "mimetype": "text/x-python",
   "name": "python",
   "nbconvert_exporter": "python",
   "pygments_lexer": "ipython3",
   "version": "3.6.12"
  }
 },
 "nbformat": 4,
 "nbformat_minor": 4
}
