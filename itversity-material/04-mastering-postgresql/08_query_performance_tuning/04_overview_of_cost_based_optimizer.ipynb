{
 "cells": [
  {
   "cell_type": "markdown",
   "metadata": {},
   "source": [
    "## Overview of Cost Based Optimizer\n",
    "\n",
    "Let us get an overview of cost based optimizer.\n",
    "* Databases use cost based optimizer to generate explain plans. In the earlier days, they used to use rule based optimizer.\n",
    "* For cost based optimizer to generate optimal explain plan, we need to ensure statistics of our data in tables are collected at regular intervals.\n",
    "* We can analyze tables to collect statistics. Typically DBAs schedule to collect statistics at regular intervals.\n",
    "* In some cases we might have to compute statistics on the tables that are used in the query which we are trying to tune. The database user need to have permissions to compute statistics.\n",
    "* Here are some of the basic statistics typically collected.\n",
    "  * Approximate number of records at table level.\n",
    "  * Approximate number of unique records at index level.\n",
    "* When explain plans are generated, these statistics will be used by cost based optimizer to provide us with the most optimal plan for our query."
   ]
  }
 ],
 "metadata": {
  "kernelspec": {
   "display_name": "Python 3",
   "language": "python",
   "name": "python3"
  },
  "language_info": {
   "codemirror_mode": {
    "name": "ipython",
    "version": 3
   },
   "file_extension": ".py",
   "mimetype": "text/x-python",
   "name": "python",
   "nbconvert_exporter": "python",
   "pygments_lexer": "ipython3",
   "version": "3.6.12"
  }
 },
 "nbformat": 4,
 "nbformat_minor": 4
}
