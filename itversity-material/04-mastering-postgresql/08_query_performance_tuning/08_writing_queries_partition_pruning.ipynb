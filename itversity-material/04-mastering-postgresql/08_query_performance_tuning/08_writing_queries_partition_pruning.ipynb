{
 "cells": [
  {
   "cell_type": "markdown",
   "metadata": {},
   "source": [
    "## Writing Queries – Partition Pruning\n",
    "\n",
    "Let us understand how to write queries by leveraging partitioing.\n",
    "* Make sure to include a condition on partitioned column.\n",
    "* Equal condition will yield better results.\n",
    "* Queries with condition on partition key will result in partition pruning. The data from the other partitions will be fully ignored.\n",
    "* As partition pruning will result in lesser I/O, the overall performance of such queries will improve drastically."
   ]
  }
 ],
 "metadata": {
  "kernelspec": {
   "display_name": "Python 3",
   "language": "python",
   "name": "python3"
  },
  "language_info": {
   "codemirror_mode": {
    "name": "ipython",
    "version": 3
   },
   "file_extension": ".py",
   "mimetype": "text/x-python",
   "name": "python",
   "nbconvert_exporter": "python",
   "pygments_lexer": "ipython3",
   "version": "3.6.12"
  }
 },
 "nbformat": 4,
 "nbformat_minor": 4
}
