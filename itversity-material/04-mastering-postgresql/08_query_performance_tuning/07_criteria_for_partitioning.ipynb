{
 "cells": [
  {
   "cell_type": "markdown",
   "metadata": {},
   "source": [
    "## Criteria for Partitioning\n",
    "\n",
    "Let us understand how we can leverage partitioning to fine tune the performance.\n",
    "* Partitioning is another key strategy to boost the performance of the queries.\n",
    "* It is extensively used as key performance tuning strategy as part of tables created to support reporting requirements.\n",
    "* Even in transactional systems, we can leverage partitioning as one of the performance tuning technique while dealing with large tables.\n",
    "* For application log tables, we might want to discard all the irrelevant data after specific time period. If partitioning is used, we can detach and/or drop the paritions quickly.\n",
    "* Over a period of time most of the orders will be in **CLOSED** status. We can partition table using list parititioning to ensure that all the **CLOSED** orders are moved to another partition. It can improve the performance for the activity related to active orders.\n",
    "* In case of reporting databases, we might partition the transaction tables at daily level so that we can easily filter and process data to pre-aggregate and store in the reporting data marts.\n",
    "* Most of the tables in ODS or Data Lake will be timestamped and partitioned at daily or monthly level so that we can remove or archive old partitions easily"
   ]
  }
 ],
 "metadata": {
  "kernelspec": {
   "display_name": "Python 3",
   "language": "python",
   "name": "python3"
  },
  "language_info": {
   "codemirror_mode": {
    "name": "ipython",
    "version": 3
   },
   "file_extension": ".py",
   "mimetype": "text/x-python",
   "name": "python",
   "nbconvert_exporter": "python",
   "pygments_lexer": "ipython3",
   "version": "3.6.12"
  }
 },
 "nbformat": 4,
 "nbformat_minor": 4
}
